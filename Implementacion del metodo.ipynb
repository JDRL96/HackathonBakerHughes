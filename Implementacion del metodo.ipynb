{
 "cells": [
  {
   "cell_type": "code",
   "execution_count": 1,
   "id": "4a4f1f08",
   "metadata": {},
   "outputs": [],
   "source": [
    "import numpy as np\n",
    "import pandas as pd\n",
    "import matplotlib.pyplot as plt\n",
    "import seaborn as sns\n",
    "from sklearn.linear_model import LinearRegression\n",
    "from sklearn.neighbors import KNeighborsClassifier\n",
    "from sklearn.metrics import mean_squared_error\n",
    "import math"
   ]
  },
  {
   "cell_type": "code",
   "execution_count": 2,
   "id": "3e881e32",
   "metadata": {},
   "outputs": [],
   "source": [
    "#Seleccionar todos los datos de 'train'\n",
    "array_df = [pd.read_csv('Data/train/data_0'+ str(csvnum) +'.csv') for csvnum in np.arange(1,15+1)]"
   ]
  },
  {
   "cell_type": "code",
   "execution_count": 3,
   "id": "97faecf8",
   "metadata": {},
   "outputs": [],
   "source": [
    "for df in array_df:\n",
    "    #Se cambia el nombre de las columnas para que tengan un formato acorde al de Python\n",
    "    df.columns = [\"date\" , \"ambient_temperature\" , \"ambient_pressure\" , \"compressor_speed\" , \"compressor_discharge_pressure\" , \"gas_generator_discharge_pressure\" , \"high _pressure_turbine_inlet_temperature\" , \"compressor_discharge_temperature\" , \"low_pressure_turbine_inlet_temperature\" , \"exhaust_temperature\" , \"ambient_relative_humidity\" , \"water_to_dry_air_ratio\" , \"power\"]"
   ]
  },
  {
   "cell_type": "code",
   "execution_count": 4,
   "id": "2ee43fa4",
   "metadata": {},
   "outputs": [],
   "source": [
    "# longitud de cada dataframe\n",
    "array_len_df = [len(df) for df in array_df]"
   ]
  },
  {
   "cell_type": "code",
   "execution_count": 5,
   "id": "882abf40",
   "metadata": {},
   "outputs": [],
   "source": [
    "#nuevo index en el dataframe de los datos \n",
    "for csvnum in np.arange(1,15+1):\n",
    "    array_df[csvnum-1].set_axis(np.arange(sum(array_len_df[:csvnum-1]), sum(array_len_df[:csvnum])), axis='index', inplace=True)"
   ]
  },
  {
   "cell_type": "code",
   "execution_count": 6,
   "id": "cad3dd84",
   "metadata": {},
   "outputs": [],
   "source": [
    "#unir todos los datos\n",
    "df_conc = pd.concat(array_df) "
   ]
  },
  {
   "cell_type": "code",
   "execution_count": 7,
   "id": "bbaf9a48",
   "metadata": {},
   "outputs": [],
   "source": [
    "#separar datos de entrenamiento y validacion\n",
    "df_train = df_conc.iloc[np.arange(366*12)]\n",
    "df_val = df_conc.iloc[np.arange(366*12, 366*15)]"
   ]
  },
  {
   "cell_type": "code",
   "execution_count": 8,
   "id": "a64004eb",
   "metadata": {},
   "outputs": [],
   "source": [
    "#quitar valores vacios en entrenamiento\n",
    "df_train = df_train.dropna()"
   ]
  },
  {
   "cell_type": "code",
   "execution_count": 9,
   "id": "68e4315b",
   "metadata": {},
   "outputs": [],
   "source": [
    "#poner en 0 los valores vacios en validacion\n",
    "df_val = df_val.fillna(0)"
   ]
  },
  {
   "cell_type": "code",
   "execution_count": 10,
   "id": "a54ccf79",
   "metadata": {},
   "outputs": [],
   "source": [
    "len_train = len(df_train)\n",
    "len_val = len(df_val)"
   ]
  },
  {
   "cell_type": "markdown",
   "id": "547c0579",
   "metadata": {},
   "source": [
    "# Creamos un metodo basado en el analisis exploratorio, usara dos regresiones lineales, dependiendo en si los datos son tipo 'azul' o 'naranja'. Para determinar el tipo, usamos k-Vecinos más cercanos"
   ]
  },
  {
   "cell_type": "code",
   "execution_count": 11,
   "id": "86dce2bb",
   "metadata": {},
   "outputs": [],
   "source": [
    "#Clase para mi modelo, con un metodo para entrenamiento y otro de prediccion\n",
    "#los hyperparametros son la línea de separación para los datos de entrenamiento\n",
    "# (linear_cut_slope, linear_cut_intercept) y la k del k-Means (knum)\n",
    "\n",
    "class MyModel():\n",
    "    # default constructor\n",
    "    def __init__(self, linear_cut_slope = 1640, linear_cut_intercept = 0, knum = 3):\n",
    "        self.linear_cut_slope = linear_cut_slope\n",
    "        self.linear_cut_intercept = linear_cut_intercept\n",
    "        self.knum = knum\n",
    "        \n",
    "    # a method for printing data members\n",
    "    def train(self, df_tr):\n",
    "        self.df_tr = df_tr #dataframe for training\n",
    "        \n",
    "        # Linear Regression EXH_T vs POWER \n",
    "        #(orange data)\n",
    "        X_tr = np.array(df_tr['exhaust_temperature']).reshape(-1,1)\n",
    "        Y_tr = np.array(df_tr['power']).reshape(-1,1)\n",
    "\n",
    "        self.orange_model = LinearRegression().fit(X_tr, Y_tr)\n",
    "\n",
    "        # KNeighbors data election with CDP and CMP_SPEED\n",
    "        self.bluemask = df_tr['power'] < (self.linear_cut_slope)*df_tr['compressor_discharge_pressure'] + (self.linear_cut_intercept)\n",
    "        df_X_kmeans = df_tr[['compressor_discharge_pressure', 'compressor_speed']].to_numpy()\n",
    "        df_Y_kmeans = self.bluemask #np.array([0 for i in df_X_kmeans])\n",
    "        \n",
    "        self.chooseblue = KNeighborsClassifier(self.knum)\n",
    "        self.chooseblue.fit(df_X_kmeans, df_Y_kmeans)\n",
    "        \n",
    "        # Linear Regression CDP vs POWER \n",
    "        #(blue data)\n",
    "        X_tr = np.array(df_tr['compressor_discharge_pressure']).reshape(-1,1)\n",
    "        Y_tr = np.array(df_tr['power']).reshape(-1,1)\n",
    "        \n",
    "        self.blue_model = LinearRegression().fit(X_tr[self.bluemask], Y_tr[self.bluemask])\n",
    "                \n",
    "    def predict(self, df_pr): #dataframe for predicting\n",
    "        \n",
    "        # Predict with Linear Regression EXH_T vs POWER\n",
    "        X_prt = np.array(df_pr['exhaust_temperature']).reshape(-1,1)\n",
    "        Y_prt = self.orange_model.predict(X_prt)\n",
    "\n",
    "        # Predict with Linear Regression CDP vs POWER ()\n",
    "        X_prt1 = np.array(df_pr['compressor_discharge_pressure']).reshape(-1,1)\n",
    "        Y_prt1 = self.blue_model.predict(X_prt1) \n",
    "        \n",
    "        # Blue or orange prediction with KNeighbors data\n",
    "        self.bluelabel = self.chooseblue.predict(df_pr[['compressor_discharge_pressure', 'compressor_speed']].to_numpy())\n",
    "\n",
    "        #change prediction if data is blue type with bluelabel\n",
    "        for i in np.arange(len(Y_prt)):\n",
    "            if (self.bluelabel[i] == True):\n",
    "                Y_prt[i] = Y_prt1[i]\n",
    "\n",
    "        return Y_prt"
   ]
  },
  {
   "cell_type": "markdown",
   "id": "0f92bf78",
   "metadata": {},
   "source": [
    "# Aplicación a los datos de validación"
   ]
  },
  {
   "cell_type": "code",
   "execution_count": 12,
   "id": "a5a95b1d",
   "metadata": {},
   "outputs": [],
   "source": [
    "#Llamando la clase\n",
    "Modelo1 = MyModel()"
   ]
  },
  {
   "cell_type": "code",
   "execution_count": 13,
   "id": "32d1cdd9",
   "metadata": {},
   "outputs": [],
   "source": [
    "#Entrenamiento\n",
    "Modelo1.train(df_train)"
   ]
  },
  {
   "cell_type": "code",
   "execution_count": 14,
   "id": "8343c02d",
   "metadata": {},
   "outputs": [],
   "source": [
    "#Prediccion en validacion\n",
    "y_val_pred = Modelo1.predict(df_val)"
   ]
  },
  {
   "cell_type": "code",
   "execution_count": 15,
   "id": "fcc86f5c",
   "metadata": {},
   "outputs": [],
   "source": [
    "#Calcular como funcionó en la métrica\n",
    "MSE = mean_squared_error(df_val['power'], y_val_pred)\n",
    "RMSE = math.sqrt(MSE)"
   ]
  },
  {
   "cell_type": "code",
   "execution_count": 16,
   "id": "fc404f6b",
   "metadata": {},
   "outputs": [
    {
     "data": {
      "text/plain": [
       "12031.61570726934"
      ]
     },
     "execution_count": 16,
     "metadata": {},
     "output_type": "execute_result"
    }
   ],
   "source": [
    "RMSE"
   ]
  },
  {
   "cell_type": "markdown",
   "id": "38ca7813",
   "metadata": {},
   "source": [
    "# Aqui podemos ver la aplicacion de los k nearest para el anterior modelo"
   ]
  },
  {
   "cell_type": "code",
   "execution_count": 17,
   "id": "3d0d9236",
   "metadata": {},
   "outputs": [
    {
     "data": {
      "text/plain": [
       "<matplotlib.collections.PathCollection at 0x7efbdd34ed90>"
      ]
     },
     "execution_count": 17,
     "metadata": {},
     "output_type": "execute_result"
    },
    {
     "data": {
      "image/png": "[encoded data removed]",
      "text/plain": [
       "<Figure size 936x936 with 1 Axes>"
      ]
     },
     "metadata": {
      "needs_background": "light"
     },
     "output_type": "display_data"
    }
   ],
   "source": [
    "f, ax = plt.subplots(figsize=(13, 13))\n",
    "plt.scatter(df_train['compressor_discharge_pressure'][Modelo1.bluemask], df_train['compressor_speed'][Modelo1.bluemask], s = 50)\n",
    "plt.scatter(df_train['compressor_discharge_pressure'][Modelo1.bluemask==False], df_train['compressor_speed'][Modelo1.bluemask==False], s = 50)\n",
    "plt.scatter(df_val['compressor_discharge_pressure'][Modelo1.bluelabel], df_val['compressor_speed'][Modelo1.bluelabel], marker = \"s\", s = 15)\n",
    "plt.scatter(df_val['compressor_discharge_pressure'][Modelo1.bluelabel==False], df_val['compressor_speed'][Modelo1.bluelabel==False], marker = \"s\", s = 15)"
   ]
  },
  {
   "cell_type": "markdown",
   "id": "376e089e",
   "metadata": {},
   "source": [
    "# Validación del método y fijación de los hiperparametros"
   ]
  },
  {
   "cell_type": "code",
   "execution_count": 18,
   "id": "aee372f8",
   "metadata": {},
   "outputs": [],
   "source": [
    "num_folds = 4\n",
    "k_choices = [1, 2, 3, 5, 8, 10]\n",
    "intercept_choices = [-250, -125, 0, 125, 250, 375]\n",
    "\n",
    "\n",
    "df_train_folds = np.array_split(df_train, 4)\n",
    "accuracies = {}"
   ]
  },
  {
   "cell_type": "code",
   "execution_count": 19,
   "id": "54326fec",
   "metadata": {},
   "outputs": [],
   "source": [
    "for intercept_par in intercept_choices:\n",
    "    for k in k_choices:\n",
    "        accuracies[(k,intercept_par)] = [] \n",
    "\n",
    "        for i_folds in np.arange(num_folds):\n",
    "\n",
    "            classifier = MyModel(linear_cut_intercept = intercept_par, knum = k)\n",
    "\n",
    "            df_train_foldset = pd.concat(df_train_folds[:i_folds] + df_train_folds[i_folds+1:])\n",
    "            df_test_foldset = df_train_folds[i_folds]\n",
    "\n",
    "            classifier.train(df_train_foldset)\n",
    "\n",
    "            y_val_pred = classifier.predict(df_test_foldset)\n",
    "\n",
    "            MSE = mean_squared_error(df_test_foldset['power'], y_val_pred)\n",
    "            RMSE = math.sqrt(MSE)\n",
    "\n",
    "            #print(RMSE)\n",
    "            accuracies[(k,intercept_par)].append(RMSE)"
   ]
  },
  {
   "cell_type": "code",
   "execution_count": 20,
   "id": "0d556c4b",
   "metadata": {},
   "outputs": [
    {
     "data": {
      "text/plain": [
       "{(1, -250): [1099.1346176699706,\n",
       "  1186.1864374990985,\n",
       "  458.33667232959084,\n",
       "  801.0373755391048],\n",
       " (2, -250): [1176.1748988136167,\n",
       "  1213.7415163514963,\n",
       "  506.85154457416917,\n",
       "  753.791525556725],\n",
       " (3, -250): [1104.2329908659556,\n",
       "  1180.9054821146892,\n",
       "  560.7621590359508,\n",
       "  792.3219989650157],\n",
       " (5, -250): [1114.9724318738902,\n",
       "  1093.1364212209833,\n",
       "  633.0782248148932,\n",
       "  853.0426108837495],\n",
       " (8, -250): [1100.1131734566654,\n",
       "  1101.7766370853446,\n",
       "  621.17422362265,\n",
       "  852.2516153111765],\n",
       " (10, -250): [1092.2061351219018,\n",
       "  1119.9829962622762,\n",
       "  616.6459600142534,\n",
       "  849.1563659031169],\n",
       " (1, -125): [1081.6759188698131,\n",
       "  1185.5624089401147,\n",
       "  438.5999500526191,\n",
       "  800.0040307516825],\n",
       " (2, -125): [1154.3469506957956,\n",
       "  1199.4709511826977,\n",
       "  464.32929221348894,\n",
       "  750.1794890841571],\n",
       " (3, -125): [1104.5145435753025,\n",
       "  1180.84677577633,\n",
       "  559.3149696514487,\n",
       "  790.6950726109642],\n",
       " (5, -125): [1115.1828735946954,\n",
       "  1196.1396277874614,\n",
       "  631.5002747963688,\n",
       "  851.2217841515505],\n",
       " (8, -125): [1100.338258440857,\n",
       "  1101.7585067040288,\n",
       "  619.7109162712446,\n",
       "  850.4487903815495],\n",
       " (10, -125): [1092.2644702488415,\n",
       "  1119.8259609198958,\n",
       "  615.1874323053725,\n",
       "  847.370358769189],\n",
       " (1, 0): [1081.7867637526078,\n",
       "  1186.685521908773,\n",
       "  454.67356996199936,\n",
       "  797.7719730110771],\n",
       " (2, 0): [1146.515791666771,\n",
       "  1196.0523600391716,\n",
       "  468.2470341748157,\n",
       "  746.207629272733],\n",
       " (3, 0): [1082.9254787367806,\n",
       "  1182.8656932993867,\n",
       "  558.7891073304942,\n",
       "  789.1693884474179],\n",
       " (5, 0): [1080.7074527189654,\n",
       "  1195.8246241060758,\n",
       "  630.9101300592719,\n",
       "  850.3450399238479],\n",
       " (8, 0): [1074.653245249847,\n",
       "  1101.524701897947,\n",
       "  619.0613107872853,\n",
       "  849.5852925883783],\n",
       " (10, 0): [1092.2985382495679,\n",
       "  1119.52273699411,\n",
       "  614.8375943342785,\n",
       "  846.5238246041997],\n",
       " (1, 125): [1081.977286894574,\n",
       "  1179.3715769984947,\n",
       "  451.5347892955023,\n",
       "  797.345678280727],\n",
       " (2, 125): [1145.5121221352485,\n",
       "  1188.816498928783,\n",
       "  465.1986333215167,\n",
       "  745.7841100469457],\n",
       " (3, 125): [1083.0766227772924,\n",
       "  1182.5289238978926,\n",
       "  558.3975889079236,\n",
       "  788.7103312182285],\n",
       " (5, 125): [1080.8191851825432,\n",
       "  1195.4751451695336,\n",
       "  630.4739720090686,\n",
       "  849.8754772881183],\n",
       " (8, 125): [1074.7749338202311,\n",
       "  1101.2209952493592,\n",
       "  618.6474847040955,\n",
       "  849.1203610756321],\n",
       " (10, 125): [1092.3509084046932,\n",
       "  1119.192090871778,\n",
       "  614.4254229527345,\n",
       "  846.0628320242532],\n",
       " (1, 250): [1082.0567812687184,\n",
       "  1190.6552628236955,\n",
       "  451.41525188481995,\n",
       "  797.345678280727],\n",
       " (2, 250): [1145.594077099688,\n",
       "  1188.5044566679942,\n",
       "  465.07768580756243,\n",
       "  745.7841100469457],\n",
       " (3, 250): [1083.1399561255516,\n",
       "  1182.1923411450116,\n",
       "  558.2616498450374,\n",
       "  788.7103312182285],\n",
       " (5, 250): [1080.8688021659837,\n",
       "  1195.1355078696163,\n",
       "  630.3270210066001,\n",
       "  849.8754772881183],\n",
       " (8, 250): [1074.8278052028033,\n",
       "  1100.906158631533,\n",
       "  618.5012488295854,\n",
       "  849.1203610756321],\n",
       " (10, 250): [1092.3752639269828,\n",
       "  1118.872441372991,\n",
       "  614.2814750423031,\n",
       "  846.0628320242532],\n",
       " (1, 375): [1082.187787012699,\n",
       "  1189.9025055311508,\n",
       "  449.7990438018377,\n",
       "  796.820296551468],\n",
       " (2, 375): [1145.7484285694861,\n",
       "  1187.8408412467832,\n",
       "  463.5041476382327,\n",
       "  744.1664981457147],\n",
       " (3, 375): [1083.246560962938,\n",
       "  1181.4159354750084,\n",
       "  557.7799779418941,\n",
       "  788.0976953718168],\n",
       " (5, 375): [1080.9396296817363,\n",
       "  1194.3357614907202,\n",
       "  629.7872965914244,\n",
       "  847.991461198329],\n",
       " (8, 375): [1074.9089382959046,\n",
       "  1100.1999504765781,\n",
       "  617.988468225859,\n",
       "  848.5440958314767],\n",
       " (10, 375): [1092.4133346102672,\n",
       "  1118.1178637687,\n",
       "  613.7719621186765,\n",
       "  845.4986052978034]}"
      ]
     },
     "execution_count": 20,
     "metadata": {},
     "output_type": "execute_result"
    }
   ],
   "source": [
    "accuracies"
   ]
  },
  {
   "cell_type": "code",
   "execution_count": 21,
   "id": "87be3e0b",
   "metadata": {},
   "outputs": [
    {
     "name": "stdout",
     "output_type": "stream",
     "text": [
      "[1099.1346176699706, 1186.1864374990985, 458.33667232959084, 801.0373755391048] 1 -250\n",
      "[1176.1748988136167, 1213.7415163514963, 506.85154457416917, 753.791525556725] 2 -250\n",
      "[1104.2329908659556, 1180.9054821146892, 560.7621590359508, 792.3219989650157] 3 -250\n",
      "[1114.9724318738902, 1093.1364212209833, 633.0782248148932, 853.0426108837495] 5 -250\n",
      "[1100.1131734566654, 1101.7766370853446, 621.17422362265, 852.2516153111765] 8 -250\n",
      "[1092.2061351219018, 1119.9829962622762, 616.6459600142534, 849.1563659031169] 10 -250\n",
      "[1081.6759188698131, 1185.5624089401147, 438.5999500526191, 800.0040307516825] 1 -125\n",
      "[1154.3469506957956, 1199.4709511826977, 464.32929221348894, 750.1794890841571] 2 -125\n",
      "[1104.5145435753025, 1180.84677577633, 559.3149696514487, 790.6950726109642] 3 -125\n",
      "[1115.1828735946954, 1196.1396277874614, 631.5002747963688, 851.2217841515505] 5 -125\n",
      "[1100.338258440857, 1101.7585067040288, 619.7109162712446, 850.4487903815495] 8 -125\n",
      "[1092.2644702488415, 1119.8259609198958, 615.1874323053725, 847.370358769189] 10 -125\n",
      "[1081.7867637526078, 1186.685521908773, 454.67356996199936, 797.7719730110771] 1 0\n",
      "[1146.515791666771, 1196.0523600391716, 468.2470341748157, 746.207629272733] 2 0\n",
      "[1082.9254787367806, 1182.8656932993867, 558.7891073304942, 789.1693884474179] 3 0\n",
      "[1080.7074527189654, 1195.8246241060758, 630.9101300592719, 850.3450399238479] 5 0\n",
      "[1074.653245249847, 1101.524701897947, 619.0613107872853, 849.5852925883783] 8 0\n",
      "[1092.2985382495679, 1119.52273699411, 614.8375943342785, 846.5238246041997] 10 0\n",
      "[1081.977286894574, 1179.3715769984947, 451.5347892955023, 797.345678280727] 1 125\n",
      "[1145.5121221352485, 1188.816498928783, 465.1986333215167, 745.7841100469457] 2 125\n",
      "[1083.0766227772924, 1182.5289238978926, 558.3975889079236, 788.7103312182285] 3 125\n",
      "[1080.8191851825432, 1195.4751451695336, 630.4739720090686, 849.8754772881183] 5 125\n",
      "[1074.7749338202311, 1101.2209952493592, 618.6474847040955, 849.1203610756321] 8 125\n",
      "[1092.3509084046932, 1119.192090871778, 614.4254229527345, 846.0628320242532] 10 125\n",
      "[1082.0567812687184, 1190.6552628236955, 451.41525188481995, 797.345678280727] 1 250\n",
      "[1145.594077099688, 1188.5044566679942, 465.07768580756243, 745.7841100469457] 2 250\n",
      "[1083.1399561255516, 1182.1923411450116, 558.2616498450374, 788.7103312182285] 3 250\n",
      "[1080.8688021659837, 1195.1355078696163, 630.3270210066001, 849.8754772881183] 5 250\n",
      "[1074.8278052028033, 1100.906158631533, 618.5012488295854, 849.1203610756321] 8 250\n",
      "[1092.3752639269828, 1118.872441372991, 614.2814750423031, 846.0628320242532] 10 250\n",
      "[1082.187787012699, 1189.9025055311508, 449.7990438018377, 796.820296551468] 1 375\n",
      "[1145.7484285694861, 1187.8408412467832, 463.5041476382327, 744.1664981457147] 2 375\n",
      "[1083.246560962938, 1181.4159354750084, 557.7799779418941, 788.0976953718168] 3 375\n",
      "[1080.9396296817363, 1194.3357614907202, 629.7872965914244, 847.991461198329] 5 375\n",
      "[1074.9089382959046, 1100.1999504765781, 617.988468225859, 848.5440958314767] 8 375\n",
      "[1092.4133346102672, 1118.1178637687, 613.7719621186765, 845.4986052978034] 10 375\n"
     ]
    }
   ],
   "source": [
    "for intercept_par in intercept_choices:\n",
    "    for k in k_choices:\n",
    "        print(accuracies[(k,intercept_par)], k,intercept_par)"
   ]
  },
  {
   "cell_type": "markdown",
   "id": "31e25bc7",
   "metadata": {},
   "source": [
    "# Haciendo una revision de los valores, vemos que la validación toma buenos valores para k =2 y b = 125 "
   ]
  }
 ],
 "metadata": {
  "kernelspec": {
   "display_name": "Python 3 (ipykernel)",
   "language": "python",
   "name": "python3"
  },
  "language_info": {
   "codemirror_mode": {
    "name": "ipython",
    "version": 3
   },
   "file_extension": ".py",
   "mimetype": "text/x-python",
   "name": "python",
   "nbconvert_exporter": "python",
   "pygments_lexer": "ipython3",
   "version": "3.8.10"
  }
 },
 "nbformat": 4,
 "nbformat_minor": 5
}
